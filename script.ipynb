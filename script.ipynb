{
 "cells": [
  {
   "cell_type": "markdown",
   "id": "e3848fdd",
   "metadata": {},
   "source": [
    "## Importando bibliotecas e lendo arquivo"
   ]
  },
  {
   "cell_type": "code",
   "execution_count": 87,
   "id": "8ccc3d88",
   "metadata": {},
   "outputs": [],
   "source": [
    "# Importar pandas\n",
    "import pandas as pd"
   ]
  },
  {
   "cell_type": "markdown",
   "id": "1959dcff",
   "metadata": {},
   "source": [
    "Dataset utilizado\n",
    "https://caelum-online-public.s3.amazonaws.com/2030-entendendo-formulas-dax/01/Preparando-o-ambiente.zip"
   ]
  },
  {
   "cell_type": "code",
   "execution_count": 88,
   "id": "5c97f38f",
   "metadata": {},
   "outputs": [],
   "source": [
    "# Ler arquivo Excel\n",
    "itens_notas = pd.read_excel(\"Data/dataset-vendas.xlsx\", \"Itens Notas\")\n",
    "notas = pd.read_excel(\"Data/dataset-vendas.xlsx\", \"Notas\")\n",
    "produtos = pd.read_excel(\"Data/dataset-vendas.xlsx\", \"Produtos\")\n",
    "vendedores = pd.read_excel(\"Data/dataset-vendas.xlsx\", \"Vendedores\")"
   ]
  },
  {
   "cell_type": "markdown",
   "id": "37d75156",
   "metadata": {},
   "source": [
    "## Explorando dados"
   ]
  },
  {
   "cell_type": "markdown",
   "id": "b7aed022",
   "metadata": {},
   "source": [
    "### Head"
   ]
  },
  {
   "cell_type": "code",
   "execution_count": 112,
   "id": "b958baf8",
   "metadata": {},
   "outputs": [
    {
     "name": "stdout",
     "output_type": "stream",
     "text": [
      "   numero_nota  codigo_produto  quantidade  valor_unitario  valor_venda\n",
      "0          100         1101035          26          36.000      936.000\n",
      "1          100          520380          67          48.990     3282.330\n",
      "2          100          773912          66          21.000     1386.000\n",
      "3          100         1013793          63          24.010     1512.630\n",
      "4          101         1000889          35           6.309      220.815\n"
     ]
    }
   ],
   "source": [
    "# Primeiras linhas itens notas\n",
    "print(itens_notas.head())"
   ]
  },
  {
   "cell_type": "code",
   "execution_count": 113,
   "id": "30e0d8e6",
   "metadata": {},
   "outputs": [
    {
     "name": "stdout",
     "output_type": "stream",
     "text": [
      "   matricula_vendedor data_venda  numero_nota  imposto\n",
      "0                 235 2015-01-01          100      0.1\n",
      "1                 235 2015-01-01          113      0.1\n",
      "2                 235 2015-01-01          114      0.1\n",
      "3                 235 2015-01-01          116      0.1\n",
      "4                 235 2015-01-01          120      0.1\n"
     ]
    }
   ],
   "source": [
    "# Primeiras linhas notas\n",
    "print(notas.head())"
   ]
  },
  {
   "cell_type": "code",
   "execution_count": 114,
   "id": "e394db72",
   "metadata": {},
   "outputs": [
    {
     "name": "stdout",
     "output_type": "stream",
     "text": [
      "   codigo_produto                                            nome   tipo  \\\n",
      "0         1000889            Desmistificando Business Inteligence  Ebook   \n",
      "1         1002334                                      BI na veia  Livro   \n",
      "2         1002767  Power BI: 10 dicas para o tratamento dos dados  Ebook   \n",
      "3         1004327                   Tudo sobre o Power BI Desktop  Livro   \n",
      "4         1013793                                  O poder do DAX  Livro   \n",
      "\n",
      "    valor  \n",
      "0   6.309  \n",
      "1  42.000  \n",
      "2   8.410  \n",
      "3  35.000  \n",
      "4  24.010  \n"
     ]
    }
   ],
   "source": [
    "# Primeiras linhas produtos\n",
    "print(produtos.head())"
   ]
  },
  {
   "cell_type": "code",
   "execution_count": 115,
   "id": "c6200ff2",
   "metadata": {},
   "outputs": [
    {
     "name": "stdout",
     "output_type": "stream",
     "text": [
      "   matricula              nome  percentual_comissao  \\\n",
      "0        235       David Neves                 0.08   \n",
      "1        236  Thiago Gonçalves                 0.08   \n",
      "2        237     Allan Spadini                 0.11   \n",
      "\n",
      "                                          url_imagem  \n",
      "0  https://www.gravatar.com/avatar/5645655c7c3278...  \n",
      "1  https://www.gravatar.com/avatar/a1720bb05089f1...  \n",
      "2  https://www.gravatar.com/avatar/cfda15dded9077...  \n"
     ]
    }
   ],
   "source": [
    "# Primeiras linhas vendedores\n",
    "print(vendedores.head())"
   ]
  },
  {
   "cell_type": "markdown",
   "id": "c9570828",
   "metadata": {},
   "source": [
    "### Info"
   ]
  },
  {
   "cell_type": "code",
   "execution_count": 116,
   "id": "aa19f7e3",
   "metadata": {},
   "outputs": [
    {
     "name": "stdout",
     "output_type": "stream",
     "text": [
      "<class 'pandas.core.frame.DataFrame'>\n",
      "RangeIndex: 213364 entries, 0 to 213363\n",
      "Data columns (total 5 columns):\n",
      " #   Column          Non-Null Count   Dtype  \n",
      "---  ------          --------------   -----  \n",
      " 0   numero_nota     213364 non-null  int64  \n",
      " 1   codigo_produto  213364 non-null  int64  \n",
      " 2   quantidade      213364 non-null  int64  \n",
      " 3   valor_unitario  177514 non-null  float64\n",
      " 4   valor_venda     177514 non-null  float64\n",
      "dtypes: float64(2), int64(3)\n",
      "memory usage: 8.1 MB\n",
      "None\n"
     ]
    }
   ],
   "source": [
    "# Informações do Dataset itens notas\n",
    "print(itens_notas.info())"
   ]
  },
  {
   "cell_type": "code",
   "execution_count": 117,
   "id": "0b1edf98",
   "metadata": {},
   "outputs": [
    {
     "name": "stdout",
     "output_type": "stream",
     "text": [
      "<class 'pandas.core.frame.DataFrame'>\n",
      "RangeIndex: 87877 entries, 0 to 87876\n",
      "Data columns (total 4 columns):\n",
      " #   Column              Non-Null Count  Dtype         \n",
      "---  ------              --------------  -----         \n",
      " 0   matricula_vendedor  87877 non-null  int64         \n",
      " 1   data_venda          87877 non-null  datetime64[ns]\n",
      " 2   numero_nota         87877 non-null  int64         \n",
      " 3   imposto             87877 non-null  float64       \n",
      "dtypes: datetime64[ns](1), float64(1), int64(2)\n",
      "memory usage: 2.7 MB\n",
      "None\n"
     ]
    }
   ],
   "source": [
    "# Informações do Dataset notas\n",
    "print(notas.info())"
   ]
  },
  {
   "cell_type": "code",
   "execution_count": 118,
   "id": "ece26eb6",
   "metadata": {},
   "outputs": [
    {
     "name": "stdout",
     "output_type": "stream",
     "text": [
      "<class 'pandas.core.frame.DataFrame'>\n",
      "RangeIndex: 28 entries, 0 to 27\n",
      "Data columns (total 4 columns):\n",
      " #   Column          Non-Null Count  Dtype  \n",
      "---  ------          --------------  -----  \n",
      " 0   codigo_produto  28 non-null     int64  \n",
      " 1   nome            28 non-null     string \n",
      " 2   tipo            28 non-null     string \n",
      " 3   valor           28 non-null     float64\n",
      "dtypes: float64(1), int64(1), string(2)\n",
      "memory usage: 1.0 KB\n",
      "None\n"
     ]
    }
   ],
   "source": [
    "# Informações do Dataset produtos\n",
    "print(produtos.info())"
   ]
  },
  {
   "cell_type": "code",
   "execution_count": 119,
   "id": "873c4c96",
   "metadata": {},
   "outputs": [
    {
     "name": "stdout",
     "output_type": "stream",
     "text": [
      "<class 'pandas.core.frame.DataFrame'>\n",
      "RangeIndex: 3 entries, 0 to 2\n",
      "Data columns (total 4 columns):\n",
      " #   Column               Non-Null Count  Dtype  \n",
      "---  ------               --------------  -----  \n",
      " 0   matricula            3 non-null      int64  \n",
      " 1   nome                 3 non-null      string \n",
      " 2   percentual_comissao  3 non-null      float64\n",
      " 3   url_imagem           3 non-null      string \n",
      "dtypes: float64(1), int64(1), string(2)\n",
      "memory usage: 224.0 bytes\n",
      "None\n"
     ]
    }
   ],
   "source": [
    "# Informações do Dataset vendedores\n",
    "print(vendedores.info())"
   ]
  },
  {
   "cell_type": "markdown",
   "id": "487251c7",
   "metadata": {},
   "source": [
    "### Describe"
   ]
  },
  {
   "cell_type": "code",
   "execution_count": 120,
   "id": "00e036c8",
   "metadata": {},
   "outputs": [
    {
     "name": "stdout",
     "output_type": "stream",
     "text": [
      "         numero_nota  codigo_produto     quantidade  valor_unitario  \\\n",
      "count  213364.000000    2.133640e+05  213364.000000   177514.000000   \n",
      "mean    43991.334297    7.539346e+05      54.499283       20.803348   \n",
      "std     25358.475034    3.077537e+05      25.981520       14.227956   \n",
      "min       100.000000    2.299000e+05      10.000000        4.904000   \n",
      "25%     22034.750000    4.797450e+05      32.000000        7.709000   \n",
      "50%     43980.000000    7.889750e+05      54.000000       19.505000   \n",
      "75%     65928.250000    1.022450e+06      77.000000       32.000000   \n",
      "max     87976.000000    1.101035e+06      99.000000       48.990000   \n",
      "\n",
      "         valor_venda  \n",
      "count  177514.000000  \n",
      "mean     1133.243918  \n",
      "std      1012.779609  \n",
      "min        49.040000  \n",
      "25%       363.488000  \n",
      "50%       721.685000  \n",
      "75%      1710.720000  \n",
      "max      4850.010000  \n"
     ]
    }
   ],
   "source": [
    "# Estatisticas descritivas itens notas\n",
    "print(itens_notas.describe())"
   ]
  },
  {
   "cell_type": "code",
   "execution_count": 121,
   "id": "4c515b6c",
   "metadata": {},
   "outputs": [
    {
     "name": "stdout",
     "output_type": "stream",
     "text": [
      "       matricula_vendedor                     data_venda  numero_nota  \\\n",
      "count        87877.000000                          87877  87877.00000   \n",
      "mean           235.996859  2016-08-13 12:36:49.724956416  44038.00000   \n",
      "min            235.000000            2015-01-01 00:00:00    100.00000   \n",
      "25%            235.000000            2015-10-23 00:00:00  22069.00000   \n",
      "50%            236.000000            2016-08-12 00:00:00  44038.00000   \n",
      "75%            237.000000            2017-06-05 00:00:00  66007.00000   \n",
      "max            237.000000            2018-03-28 00:00:00  87976.00000   \n",
      "std              0.815919                            NaN  25368.04914   \n",
      "\n",
      "            imposto  \n",
      "count  87877.000000  \n",
      "mean       0.109984  \n",
      "min        0.100000  \n",
      "25%        0.100000  \n",
      "50%        0.100000  \n",
      "75%        0.120000  \n",
      "max        0.120000  \n",
      "std        0.010000  \n"
     ]
    }
   ],
   "source": [
    "# Estatisticas descritivas notas\n",
    "print(notas.describe())"
   ]
  },
  {
   "cell_type": "code",
   "execution_count": 122,
   "id": "55090577",
   "metadata": {},
   "outputs": [
    {
     "name": "stdout",
     "output_type": "stream",
     "text": [
      "       codigo_produto      valor\n",
      "count    2.800000e+01  28.000000\n",
      "mean     9.950822e+05  20.368411\n",
      "std      7.686448e+05  13.856121\n",
      "min      2.317760e+05   4.904000\n",
      "25%      7.164912e+05   7.710125\n",
      "50%      9.198540e+05  19.687500\n",
      "75%      1.038628e+06  29.384000\n",
      "max      4.000001e+06  48.990000\n"
     ]
    }
   ],
   "source": [
    "# Estatisticas descritivas produtos\n",
    "print(produtos.describe())"
   ]
  },
  {
   "cell_type": "code",
   "execution_count": 123,
   "id": "878c86ea",
   "metadata": {},
   "outputs": [
    {
     "name": "stdout",
     "output_type": "stream",
     "text": [
      "       matricula  percentual_comissao\n",
      "count        3.0             3.000000\n",
      "mean       236.0             0.090000\n",
      "std          1.0             0.017321\n",
      "min        235.0             0.080000\n",
      "25%        235.5             0.080000\n",
      "50%        236.0             0.080000\n",
      "75%        236.5             0.095000\n",
      "max        237.0             0.110000\n"
     ]
    }
   ],
   "source": [
    "# Estatisticas descritivas vendedore\n",
    "print(vendedores.describe())"
   ]
  },
  {
   "cell_type": "markdown",
   "id": "097a645a",
   "metadata": {},
   "source": [
    "### Contar valores nulos por coluna"
   ]
  },
  {
   "cell_type": "code",
   "execution_count": 124,
   "id": "61a6262a",
   "metadata": {},
   "outputs": [
    {
     "name": "stdout",
     "output_type": "stream",
     "text": [
      "--------Itens Notas---------\n",
      "numero_nota           0\n",
      "codigo_produto        0\n",
      "quantidade            0\n",
      "valor_unitario    35850\n",
      "valor_venda       35850\n",
      "dtype: int64\n",
      "\n",
      "----------Notas-----------\n",
      "matricula_vendedor    0\n",
      "data_venda            0\n",
      "numero_nota           0\n",
      "imposto               0\n",
      "dtype: int64\n",
      "\n",
      "---------Produtos---------\n",
      "codigo_produto    0\n",
      "nome              0\n",
      "tipo              0\n",
      "valor             0\n",
      "dtype: int64\n",
      "\n",
      "--------Vendedores--------\n",
      "matricula              0\n",
      "nome                   0\n",
      "percentual_comissao    0\n",
      "url_imagem             0\n",
      "dtype: int64\n"
     ]
    }
   ],
   "source": [
    "print(\"--------Itens Notas---------\")\n",
    "print(itens_notas.isnull().sum())\n",
    "\n",
    "print(\"\\n----------Notas-----------\")\n",
    "print(notas.isnull().sum())\n",
    "\n",
    "print(\"\\n---------Produtos---------\")\n",
    "print(produtos.isnull().sum())\n",
    "\n",
    "print(\"\\n--------Vendedores--------\")\n",
    "print(vendedores.isnull().sum())"
   ]
  },
  {
   "cell_type": "markdown",
   "id": "66f1f63a",
   "metadata": {},
   "source": [
    "## Limpeza e tratamento dos dados"
   ]
  },
  {
   "cell_type": "markdown",
   "id": "9a058661",
   "metadata": {},
   "source": [
    "A fazer:\n",
    " - Remover colunas vazias\n",
    " - Renomear colunas para padrão do banco de dados\n",
    " - Ajustar tipos das colunas"
   ]
  },
  {
   "cell_type": "markdown",
   "id": "83ff5189",
   "metadata": {},
   "source": [
    "### Remover colunas vazias"
   ]
  },
  {
   "cell_type": "code",
   "execution_count": 102,
   "id": "cc50d208",
   "metadata": {},
   "outputs": [],
   "source": [
    "# Remover colunas Unnamed: 3  Unnamed: 4  Unnamed: 5  Unnamed: 6\n",
    "\n",
    "itens_notas = itens_notas.drop(columns=['Unnamed: 3', 'Unnamed: 4','Unnamed: 5', 'Unnamed: 6'])\n"
   ]
  },
  {
   "cell_type": "markdown",
   "id": "aa08019a",
   "metadata": {},
   "source": [
    "### Renomar colunas"
   ]
  },
  {
   "cell_type": "code",
   "execution_count": 103,
   "id": "92349086",
   "metadata": {},
   "outputs": [],
   "source": [
    "# Itens Nota\n",
    "itens_notas = itens_notas.rename(columns={\n",
    "    'Numero': 'numero_nota',\n",
    "    'Codigo do produto': 'codigo_produto',\n",
    "    'Quantidade': 'quantidade'\n",
    "})"
   ]
  },
  {
   "cell_type": "code",
   "execution_count": 104,
   "id": "5c3dba8d",
   "metadata": {},
   "outputs": [],
   "source": [
    "# Notas\n",
    "\n",
    "notas = notas.rename(columns={\n",
    "    'Matricula': 'matricula_vendedor',\n",
    "    'Data': 'data_venda',\n",
    "    'Numero': 'numero_nota',\n",
    "    'Imposto': 'imposto'\n",
    "})"
   ]
  },
  {
   "cell_type": "code",
   "execution_count": 105,
   "id": "9b889c1c",
   "metadata": {},
   "outputs": [],
   "source": [
    "produtos = produtos.rename(columns={\n",
    "    'Codigo do produto': 'codigo_produto',\n",
    "    'Nome do produto': 'nome',\n",
    "    'Tipo': 'tipo',\n",
    "    'Preço': 'valor'\n",
    "})"
   ]
  },
  {
   "cell_type": "code",
   "execution_count": 106,
   "id": "1c175090",
   "metadata": {},
   "outputs": [],
   "source": [
    "vendedores = vendedores.rename(columns={\n",
    "    'Matricula': 'matricula',\n",
    "    'Nome': 'nome',\n",
    "    'Percentual Comissao': 'percentual_comissao',\n",
    "    'Imagem': 'url_imagem'\n",
    "})"
   ]
  },
  {
   "cell_type": "markdown",
   "id": "d7cd2488",
   "metadata": {},
   "source": [
    "### Tipos das colunas"
   ]
  },
  {
   "cell_type": "code",
   "execution_count": 107,
   "id": "463a8ec8",
   "metadata": {},
   "outputs": [],
   "source": [
    "# Dataframe Notas\n",
    "\n",
    "notas['data_venda'] = pd.to_datetime(notas['data_venda'])"
   ]
  },
  {
   "cell_type": "code",
   "execution_count": 108,
   "id": "699caf38",
   "metadata": {},
   "outputs": [],
   "source": [
    "# Dataframe Produtos\n",
    "\n",
    "produtos['nome'] = produtos['nome'].astype('string')\n",
    "produtos['tipo'] = produtos['tipo'].astype('string')"
   ]
  },
  {
   "cell_type": "code",
   "execution_count": 109,
   "id": "c4b8827a",
   "metadata": {},
   "outputs": [],
   "source": [
    "# Dataframe Vendedores\n",
    "\n",
    "vendedores['nome'] = vendedores['nome'].astype('string')\n",
    "vendedores['url_imagem'] = vendedores['url_imagem'].astype('string')\n"
   ]
  },
  {
   "cell_type": "markdown",
   "id": "f560ade4",
   "metadata": {},
   "source": [
    "## Criando novas colunas"
   ]
  },
  {
   "cell_type": "code",
   "execution_count": 110,
   "id": "b8f33242",
   "metadata": {},
   "outputs": [
    {
     "name": "stdout",
     "output_type": "stream",
     "text": [
      "   numero_nota  codigo_produto  quantidade  valor_unitario  valor_venda\n",
      "0          100         1101035          26          36.000      936.000\n",
      "1          100          520380          67          48.990     3282.330\n",
      "2          100          773912          66          21.000     1386.000\n",
      "3          100         1013793          63          24.010     1512.630\n",
      "4          101         1000889          35           6.309      220.815\n"
     ]
    }
   ],
   "source": [
    "# Colocando coluna 'valor' de produtos em itens_notas\n",
    "itens_notas = itens_notas.merge(produtos[['codigo_produto', 'valor']],\n",
    "                                on='codigo_produto',\n",
    "                                how='left')\n",
    "\n",
    "# Renomear coluna\n",
    "itens_notas = itens_notas.rename(columns={'valor': 'valor_unitario'})\n",
    "\n",
    "# Criar nova coluna calculada\n",
    "itens_notas['valor_venda'] = itens_notas['quantidade'] * itens_notas['valor_unitario']\n",
    "\n",
    "print(itens_notas.head())\n"
   ]
  },
  {
   "cell_type": "markdown",
   "id": "e2bef8f4",
   "metadata": {},
   "source": [
    "## Exportando dataframe tratado"
   ]
  },
  {
   "cell_type": "code",
   "execution_count": null,
   "id": "940afa20",
   "metadata": {},
   "outputs": [],
   "source": [
    "# exportando para SQL (psycopg2)\n",
    "\n",
    "# RELACIONAMENOS:\n",
    "\n",
    "# itens_notas(numero_nota) n - n notas(numero_nota) - Uma nota pode ter varios itens\n",
    "# itens_notas(codigo_produto) n - 1 produtos(codigo_produto) - Um produto pode estar em varias notas\n",
    "# notas(matricula_vendedor) n - 1 vendedor(matricula) - Um vendedor pode estar em varias notas\n"
   ]
  },
  {
   "cell_type": "markdown",
   "id": "f8b39b32",
   "metadata": {},
   "source": [
    "### Conexão com banco de dados"
   ]
  },
  {
   "cell_type": "code",
   "execution_count": 49,
   "id": "ee583293",
   "metadata": {},
   "outputs": [
    {
     "name": "stdout",
     "output_type": "stream",
     "text": [
      "Conexão bem-sucedida!\n"
     ]
    }
   ],
   "source": [
    "import psycopg2\n",
    "import os\n",
    "from dotenv import load_dotenv\n",
    "\n",
    "load_dotenv() # Carrega arquivos do .env\n",
    "\n",
    "try:\n",
    "    # Conexão\n",
    "    conn = psycopg2.connect(\n",
    "        host=os.getenv(\"DB_HOST\"),\n",
    "        database=os.getenv(\"DB_NAME\"),\n",
    "        user=os.getenv(\"DB_USER\"),\n",
    "        password=os.getenv(\"DB_PASSWORD\"),\n",
    "        port=os.getenv(\"DB_PORT\")\n",
    "    )\n",
    "\n",
    "    # Criar cursor (objeto usado para enviar comandos sql)\n",
    "    cur = conn.cursor()\n",
    "\n",
    "    # Teste de conexão (executando um simples SELECT)\n",
    "    cur.execute(\"SELECT 1;\")\n",
    "    result = cur.fetchone()\n",
    "\n",
    "    if result:\n",
    "        print(\"Conexão bem-sucedida!\")\n",
    "    else:\n",
    "        print(\"Falha na consulta.\")\n",
    "\n",
    "except psycopg2.OperationalError as e:\n",
    "    print(f\"Erro de conexão: {e}\")\n",
    "\n"
   ]
  },
  {
   "cell_type": "markdown",
   "id": "9eb00cef",
   "metadata": {},
   "source": [
    "### Criando tabelas"
   ]
  },
  {
   "cell_type": "code",
   "execution_count": 51,
   "id": "64de0ec6",
   "metadata": {},
   "outputs": [],
   "source": [
    "# Tabela Produtos\n",
    "cur.execute(\"\"\"\n",
    "CREATE TABLE IF NOT EXISTS produtos (\n",
    "    codigo_produto INT PRIMARY KEY,\n",
    "    nome TEXT,\n",
    "    tipo TEXT,\n",
    "    valor NUMERIC\n",
    ")\n",
    "\"\"\")\n",
    "\n",
    "# Tabela Vendedores\n",
    "cur.execute(\"\"\"\n",
    "CREATE TABLE IF NOT EXISTS vendedores (\n",
    "    matricula INT PRIMARY KEY,\n",
    "    nome TEXT,\n",
    "    percentual_comissao NUMERIC,\n",
    "    url_imagem TEXT\n",
    ")\n",
    "\"\"\")\n",
    "\n",
    "# Tabela Notas\n",
    "cur.execute(\"\"\"\n",
    "CREATE TABLE IF NOT EXISTS notas (\n",
    "    numero_nota INT PRIMARY KEY,\n",
    "    data_venda DATE,\n",
    "    imposto NUMERIC,\n",
    "    matricula_vendedor INT,\n",
    "    FOREIGN KEY (matricula_vendedor) REFERENCES vendedores(matricula)\n",
    ")\n",
    "\"\"\")\n",
    "\n",
    "# Tabela Itens_notas\n",
    "cur.execute(\"\"\"\n",
    "CREATE TABLE IF NOT EXISTS itens_notas (\n",
    "    numero_nota INT,\n",
    "    codigo_produto INT,\n",
    "    quantidade INT,\n",
    "    valor_unitario NUMERIC,\n",
    "    valor_venda NUMERIC,\n",
    "    FOREIGN KEY (numero_nota) REFERENCES notas(numero_nota),\n",
    "    FOREIGN KEY (codigo_produto) REFERENCES produtos(codigo_produto)\n",
    ")\n",
    "\"\"\")\n",
    "\n",
    "# Salvar alterações\n",
    "conn.commit()"
   ]
  },
  {
   "cell_type": "markdown",
   "id": "169a96c1",
   "metadata": {},
   "source": [
    "### Inserindo dados"
   ]
  },
  {
   "cell_type": "code",
   "execution_count": 36,
   "id": "bd5c1ea7",
   "metadata": {},
   "outputs": [
    {
     "name": "stdout",
     "output_type": "stream",
     "text": [
      "projeto_vendas\n"
     ]
    }
   ],
   "source": [
    "cur.execute(\"SELECT current_database();\")  # Executa a consulta\n",
    "db_name = cur.fetchone()  # Obtém o resultado da consulta\n",
    "print(db_name[0])  # Imprime o nome do banco de dados (primeiro valor da tupla)\n",
    "\n"
   ]
  },
  {
   "cell_type": "markdown",
   "id": "3b5abdaa",
   "metadata": {},
   "source": [
    "### Encerrando conexão"
   ]
  },
  {
   "cell_type": "code",
   "execution_count": 52,
   "id": "80eedac6",
   "metadata": {},
   "outputs": [
    {
     "name": "stdout",
     "output_type": "stream",
     "text": [
      "Conexão encerrada!\n"
     ]
    }
   ],
   "source": [
    "# Fecha conexão\n",
    "if conn:\n",
    "    cur.close()\n",
    "    conn.close()\n",
    "    print (\"Conexão encerrada!\")"
   ]
  }
 ],
 "metadata": {
  "kernelspec": {
   "display_name": "Python 3",
   "language": "python",
   "name": "python3"
  },
  "language_info": {
   "codemirror_mode": {
    "name": "ipython",
    "version": 3
   },
   "file_extension": ".py",
   "mimetype": "text/x-python",
   "name": "python",
   "nbconvert_exporter": "python",
   "pygments_lexer": "ipython3",
   "version": "3.10.0"
  }
 },
 "nbformat": 4,
 "nbformat_minor": 5
}

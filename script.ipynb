{
 "cells": [
  {
   "cell_type": "markdown",
   "id": "e3848fdd",
   "metadata": {},
   "source": [
    "## Importando bibliotecas e lendo arquivo"
   ]
  },
  {
   "cell_type": "code",
   "execution_count": 2,
   "id": "8ccc3d88",
   "metadata": {},
   "outputs": [],
   "source": [
    "# Importar pandas\n",
    "import pandas as pd"
   ]
  },
  {
   "cell_type": "markdown",
   "id": "1959dcff",
   "metadata": {},
   "source": [
    "Dataset utilizado\n",
    "https://caelum-online-public.s3.amazonaws.com/2030-entendendo-formulas-dax/01/Preparando-o-ambiente.zip"
   ]
  },
  {
   "cell_type": "code",
   "execution_count": 4,
   "id": "5c97f38f",
   "metadata": {},
   "outputs": [],
   "source": [
    "# Ler csv\n",
    "itens_notas = pd.read_excel(\"Data/dataset-vendas.xlsx\", \"Itens Notas\")"
   ]
  },
  {
   "cell_type": "markdown",
   "id": "37d75156",
   "metadata": {},
   "source": [
    "## Explorando dados"
   ]
  },
  {
   "cell_type": "code",
   "execution_count": 5,
   "id": "b958baf8",
   "metadata": {},
   "outputs": [
    {
     "name": "stdout",
     "output_type": "stream",
     "text": [
      "   Numero  Codigo do produto  Quantidade  Unnamed: 3  Unnamed: 4  Unnamed: 5  \\\n",
      "0   27192            1022450          68         NaN         NaN         NaN   \n",
      "1   27227            1022450          72         NaN         NaN         NaN   \n",
      "2   27235            1022450          30         NaN         NaN         NaN   \n",
      "3   27250            1022450          26         NaN         NaN         NaN   \n",
      "4   27254            1022450          94         NaN         NaN         NaN   \n",
      "\n",
      "  Unnamed: 6  \n",
      "0       olla  \n",
      "1        NaN  \n",
      "2        NaN  \n",
      "3        NaN  \n",
      "4        NaN  \n"
     ]
    }
   ],
   "source": [
    "# Primeiras linhas\n",
    "print(itens_notas.head())"
   ]
  },
  {
   "cell_type": "code",
   "execution_count": 6,
   "id": "aa19f7e3",
   "metadata": {},
   "outputs": [
    {
     "name": "stdout",
     "output_type": "stream",
     "text": [
      "<class 'pandas.core.frame.DataFrame'>\n",
      "RangeIndex: 213364 entries, 0 to 213363\n",
      "Data columns (total 7 columns):\n",
      " #   Column             Non-Null Count   Dtype  \n",
      "---  ------             --------------   -----  \n",
      " 0   Numero             213364 non-null  int64  \n",
      " 1   Codigo do produto  213364 non-null  int64  \n",
      " 2   Quantidade         213364 non-null  int64  \n",
      " 3   Unnamed: 3         0 non-null       float64\n",
      " 4   Unnamed: 4         0 non-null       float64\n",
      " 5   Unnamed: 5         0 non-null       float64\n",
      " 6   Unnamed: 6         1 non-null       object \n",
      "dtypes: float64(3), int64(3), object(1)\n",
      "memory usage: 11.4+ MB\n",
      "None\n"
     ]
    }
   ],
   "source": [
    "# Informações do Dataset\n",
    "print(itens_notas.info())"
   ]
  },
  {
   "cell_type": "code",
   "execution_count": 7,
   "id": "00e036c8",
   "metadata": {},
   "outputs": [
    {
     "name": "stdout",
     "output_type": "stream",
     "text": [
      "              Numero  Codigo do produto     Quantidade  Unnamed: 3  \\\n",
      "count  213364.000000       2.133640e+05  213364.000000         0.0   \n",
      "mean    43991.334297       7.539346e+05      54.499283         NaN   \n",
      "std     25358.475034       3.077537e+05      25.981520         NaN   \n",
      "min       100.000000       2.299000e+05      10.000000         NaN   \n",
      "25%     22034.750000       4.797450e+05      32.000000         NaN   \n",
      "50%     43980.000000       7.889750e+05      54.000000         NaN   \n",
      "75%     65928.250000       1.022450e+06      77.000000         NaN   \n",
      "max     87976.000000       1.101035e+06      99.000000         NaN   \n",
      "\n",
      "       Unnamed: 4  Unnamed: 5  \n",
      "count         0.0         0.0  \n",
      "mean          NaN         NaN  \n",
      "std           NaN         NaN  \n",
      "min           NaN         NaN  \n",
      "25%           NaN         NaN  \n",
      "50%           NaN         NaN  \n",
      "75%           NaN         NaN  \n",
      "max           NaN         NaN  \n"
     ]
    }
   ],
   "source": [
    "# Estatisticas descritivas\n",
    "print(itens_notas.describe())"
   ]
  },
  {
   "cell_type": "markdown",
   "id": "66f1f63a",
   "metadata": {},
   "source": [
    "## Limpeza e tratamento dos dados"
   ]
  },
  {
   "cell_type": "code",
   "execution_count": null,
   "id": "6134da3c",
   "metadata": {},
   "outputs": [],
   "source": [
    "# # Renomeando as colunas para português\n",
    "# df = df.rename(columns={\n",
    "#     'name': 'nome',\n",
    "#     'sale_id': 'id_venda',\n",
    "#     'product_id': 'id_produto',\n",
    "#     'product': 'nome_produto',\n",
    "#     'price_y': 'preco_venda',\n",
    "#     'quantity': 'quantidade_vendida',\n",
    "#     'price_x': 'preco_original',\n",
    "#     'email': 'email_cliente'\n",
    "# })"
   ]
  },
  {
   "cell_type": "code",
   "execution_count": null,
   "id": "48cd7292",
   "metadata": {},
   "outputs": [],
   "source": [
    "# # Conversão de datas\n",
    "# df['created_at'] = pd.to_datetime(df['created_at'])\n",
    "# df['updated_at'] = pd.to_datetime(df['updated_at'])"
   ]
  },
  {
   "cell_type": "code",
   "execution_count": null,
   "id": "d2905fdb",
   "metadata": {},
   "outputs": [],
   "source": [
    "# # Removendo valores negativos ou Zero\n",
    "# df = df[(df['quantidade_vendida'] > 0) & (df['preco_venda'] > 0)]"
   ]
  },
  {
   "cell_type": "code",
   "execution_count": null,
   "id": "2f8a32d4",
   "metadata": {},
   "outputs": [],
   "source": [
    "# # Criando coluna de vendas totais\n",
    "# df['total_venda'] = df['preco_venda'] * df['quantidade_vendida']"
   ]
  },
  {
   "cell_type": "code",
   "execution_count": null,
   "id": "39e0d801",
   "metadata": {},
   "outputs": [],
   "source": [
    "# # Diferença de preço original e preço vendido\n",
    "# df['diferenca_preco'] = df['preco_venda'] - df['preco_original']"
   ]
  },
  {
   "cell_type": "markdown",
   "id": "e2bef8f4",
   "metadata": {},
   "source": [
    "## Exportando dataframe tratado"
   ]
  },
  {
   "cell_type": "code",
   "execution_count": null,
   "id": "940afa20",
   "metadata": {},
   "outputs": [],
   "source": [
    "# # exportando para CSV\n",
    "# df.to_csv('Data/dados_tratados_vendas.csv', index=False)"
   ]
  },
  {
   "cell_type": "code",
   "execution_count": null,
   "id": "ee583293",
   "metadata": {},
   "outputs": [],
   "source": []
  }
 ],
 "metadata": {
  "kernelspec": {
   "display_name": "Python 3",
   "language": "python",
   "name": "python3"
  },
  "language_info": {
   "codemirror_mode": {
    "name": "ipython",
    "version": 3
   },
   "file_extension": ".py",
   "mimetype": "text/x-python",
   "name": "python",
   "nbconvert_exporter": "python",
   "pygments_lexer": "ipython3",
   "version": "3.10.0"
  }
 },
 "nbformat": 4,
 "nbformat_minor": 5
}

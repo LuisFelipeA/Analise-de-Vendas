{
 "cells": [
  {
   "cell_type": "markdown",
   "id": "e3848fdd",
   "metadata": {},
   "source": [
    "## Importando bibliotecas e lendo arquivo"
   ]
  },
  {
   "cell_type": "code",
   "execution_count": 1,
   "id": "8ccc3d88",
   "metadata": {},
   "outputs": [],
   "source": [
    "# Importar pandas\n",
    "import pandas as pd"
   ]
  },
  {
   "cell_type": "markdown",
   "id": "1959dcff",
   "metadata": {},
   "source": [
    "Dataset utilizado\n",
    "https://www.kaggle.com/datasets/dienert/vendas"
   ]
  },
  {
   "cell_type": "code",
   "execution_count": 17,
   "id": "5c97f38f",
   "metadata": {},
   "outputs": [],
   "source": [
    "# Ler csv\n",
    "df = pd.read_csv(\"Data/vendas.csv\")"
   ]
  },
  {
   "cell_type": "markdown",
   "id": "37d75156",
   "metadata": {},
   "source": [
    "## Explorando dados"
   ]
  },
  {
   "cell_type": "code",
   "execution_count": 18,
   "id": "b958baf8",
   "metadata": {},
   "outputs": [
    {
     "name": "stdout",
     "output_type": "stream",
     "text": [
      "           name                               sale_id  product_id    product  \\\n",
      "0  Mason Howell  442bc2f0-22d3-3c8a-9f71-0f9c16cee0b2         296  Lang Club   \n",
      "1  Mason Howell  442bc2f0-22d3-3c8a-9f71-0f9c16cee0b2         296  Lang Club   \n",
      "2  Mason Howell  442bc2f0-22d3-3c8a-9f71-0f9c16cee0b2         296  Lang Club   \n",
      "3  Mason Howell  442bc2f0-22d3-3c8a-9f71-0f9c16cee0b2         296  Lang Club   \n",
      "4  Mason Howell  442bc2f0-22d3-3c8a-9f71-0f9c16cee0b2         296  Lang Club   \n",
      "\n",
      "   price_y  quantity   price_x                 created_at  \\\n",
      "0  866.694   3.89990  2433.800  1997-09-17 21:50:14+00:00   \n",
      "1  866.694   4.00000  1196.580  1997-09-17 21:50:14+00:00   \n",
      "2  866.694   1.38452  1975.000  1997-09-17 21:50:14+00:00   \n",
      "3  866.694   2.22500   119.526  1997-09-17 21:50:14+00:00   \n",
      "4  866.694   2.89000  2386.940  1997-09-17 21:50:14+00:00   \n",
      "\n",
      "                  updated_at                     email  \n",
      "0  2007-02-15 19:34:06+00:00  jessica.cole@example.net  \n",
      "1  2007-02-15 19:34:06+00:00  jessica.cole@example.net  \n",
      "2  2007-02-15 19:34:06+00:00  jessica.cole@example.net  \n",
      "3  2007-02-15 19:34:06+00:00  jessica.cole@example.net  \n",
      "4  2007-02-15 19:34:06+00:00  jessica.cole@example.net  \n"
     ]
    }
   ],
   "source": [
    "# Primeiras linhas\n",
    "print(df.head())"
   ]
  },
  {
   "cell_type": "code",
   "execution_count": 28,
   "id": "aa19f7e3",
   "metadata": {},
   "outputs": [
    {
     "name": "stdout",
     "output_type": "stream",
     "text": [
      "<class 'pandas.core.frame.DataFrame'>\n",
      "Index: 43955 entries, 0 to 44499\n",
      "Data columns (total 11 columns):\n",
      " #   Column              Non-Null Count  Dtype              \n",
      "---  ------              --------------  -----              \n",
      " 0   nome                43955 non-null  object             \n",
      " 1   id_venda            43955 non-null  object             \n",
      " 2   id_produto          43955 non-null  int64              \n",
      " 3   nome_produto        43955 non-null  object             \n",
      " 4   preco_venda         43955 non-null  float64            \n",
      " 5   quantidade_vendida  43955 non-null  float64            \n",
      " 6   preco_original      43955 non-null  float64            \n",
      " 7   created_at          43955 non-null  datetime64[ns, UTC]\n",
      " 8   updated_at          43955 non-null  datetime64[ns, UTC]\n",
      " 9   email_cliente       43955 non-null  object             \n",
      " 10  total_venda         43955 non-null  float64            \n",
      "dtypes: datetime64[ns, UTC](2), float64(4), int64(1), object(4)\n",
      "memory usage: 4.0+ MB\n",
      "None\n"
     ]
    }
   ],
   "source": [
    "# Informações do Dataset\n",
    "print(df.info())"
   ]
  },
  {
   "cell_type": "code",
   "execution_count": 20,
   "id": "00e036c8",
   "metadata": {},
   "outputs": [
    {
     "name": "stdout",
     "output_type": "stream",
     "text": [
      "         product_id       price_y      quantity       price_x\n",
      "count  44500.000000  44500.000000  44500.000000  44500.000000\n",
      "mean     300.387640   1897.930295      2.505359   1999.161519\n",
      "std       57.734845   1144.833746      1.446676   1155.451744\n",
      "min      201.000000     58.000000      0.000000      0.055818\n",
      "25%      250.000000    902.364000      1.241923    994.173000\n",
      "50%      300.000000   1754.000000      2.500000   2001.355000\n",
      "75%      350.000000   2988.600000      3.779000   3001.707500\n",
      "max      400.000000   3982.340000      5.000000   4000.000000\n"
     ]
    }
   ],
   "source": [
    "# Estatisticas descritivas\n",
    "print(df.describe())"
   ]
  },
  {
   "cell_type": "markdown",
   "id": "66f1f63a",
   "metadata": {},
   "source": [
    "## Limpeza e tratamento dos dados"
   ]
  },
  {
   "cell_type": "code",
   "execution_count": 21,
   "id": "6134da3c",
   "metadata": {},
   "outputs": [],
   "source": [
    "# Renomeando as colunas para português\n",
    "df = df.rename(columns={\n",
    "    'name': 'nome',\n",
    "    'sale_id': 'id_venda',\n",
    "    'product_id': 'id_produto',\n",
    "    'product': 'nome_produto',\n",
    "    'price_y': 'preco_venda',\n",
    "    'quantity': 'quantidade_vendida',\n",
    "    'price_x': 'preco_original',\n",
    "    'email': 'email_cliente'\n",
    "})"
   ]
  },
  {
   "cell_type": "code",
   "execution_count": 23,
   "id": "48cd7292",
   "metadata": {},
   "outputs": [],
   "source": [
    "# Conversão de datas\n",
    "df['created_at'] = pd.to_datetime(df['created_at'])\n",
    "df['updated_at'] = pd.to_datetime(df['updated_at'])"
   ]
  },
  {
   "cell_type": "code",
   "execution_count": 26,
   "id": "d2905fdb",
   "metadata": {},
   "outputs": [],
   "source": [
    "# Removendo valores negativos ou Zero\n",
    "df = df[(df['quantidade_vendida'] > 0) & (df['preco_venda'] > 0)]"
   ]
  },
  {
   "cell_type": "code",
   "execution_count": 27,
   "id": "2f8a32d4",
   "metadata": {},
   "outputs": [],
   "source": [
    "# Criando coluna de vendas totais\n",
    "df['total_venda'] = df['preco_venda'] * df['quantidade_vendida']"
   ]
  },
  {
   "cell_type": "code",
   "execution_count": 29,
   "id": "39e0d801",
   "metadata": {},
   "outputs": [],
   "source": [
    "# Diferença de preço original e preço vendido\n",
    "df['diferenca_preco'] = df['preco_venda'] - df['preco_original']"
   ]
  },
  {
   "cell_type": "markdown",
   "id": "e2bef8f4",
   "metadata": {},
   "source": [
    "## Exportando dataframe tratado"
   ]
  },
  {
   "cell_type": "code",
   "execution_count": 32,
   "id": "940afa20",
   "metadata": {},
   "outputs": [],
   "source": [
    "# exportando para CSV\n",
    "df.to_csv('Data/dados_tratados_vendas.csv', index=False)"
   ]
  },
  {
   "cell_type": "code",
   "execution_count": null,
   "id": "ee583293",
   "metadata": {},
   "outputs": [],
   "source": []
  }
 ],
 "metadata": {
  "kernelspec": {
   "display_name": "Python 3",
   "language": "python",
   "name": "python3"
  },
  "language_info": {
   "codemirror_mode": {
    "name": "ipython",
    "version": 3
   },
   "file_extension": ".py",
   "mimetype": "text/x-python",
   "name": "python",
   "nbconvert_exporter": "python",
   "pygments_lexer": "ipython3",
   "version": "3.10.0"
  }
 },
 "nbformat": 4,
 "nbformat_minor": 5
}

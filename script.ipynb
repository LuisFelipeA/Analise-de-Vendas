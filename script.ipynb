{
 "cells": [
  {
   "cell_type": "markdown",
   "id": "e3848fdd",
   "metadata": {},
   "source": [
    "## Importando bibliotecas e lendo arquivo"
   ]
  },
  {
   "cell_type": "code",
   "execution_count": null,
   "id": "8ccc3d88",
   "metadata": {},
   "outputs": [],
   "source": [
    "# Importar pandas\n",
    "import pandas as pd"
   ]
  },
  {
   "cell_type": "markdown",
   "id": "1959dcff",
   "metadata": {},
   "source": [
    "Dataset utilizado\n",
    "https://caelum-online-public.s3.amazonaws.com/2030-entendendo-formulas-dax/01/Preparando-o-ambiente.zip"
   ]
  },
  {
   "cell_type": "code",
   "execution_count": null,
   "id": "5c97f38f",
   "metadata": {},
   "outputs": [],
   "source": [
    "# Ler arquivo Excel\n",
    "itens_notas = pd.read_excel(\"Data/dataset-vendas.xlsx\", \"Itens Notas\")\n",
    "notas = pd.read_excel(\"Data/dataset-vendas.xlsx\", \"Notas\")\n",
    "produtos = pd.read_excel(\"Data/dataset-vendas.xlsx\", \"Produtos\")\n",
    "vendedores = pd.read_excel(\"Data/dataset-vendas.xlsx\", \"Vendedores\")"
   ]
  },
  {
   "cell_type": "markdown",
   "id": "37d75156",
   "metadata": {},
   "source": [
    "## Explorando dados"
   ]
  },
  {
   "cell_type": "markdown",
   "id": "b7aed022",
   "metadata": {},
   "source": [
    "### Head"
   ]
  },
  {
   "cell_type": "code",
   "execution_count": null,
   "id": "b958baf8",
   "metadata": {},
   "outputs": [],
   "source": [
    "# Primeiras linhas itens notas\n",
    "print(itens_notas.head())"
   ]
  },
  {
   "cell_type": "code",
   "execution_count": null,
   "id": "30e0d8e6",
   "metadata": {},
   "outputs": [],
   "source": [
    "# Primeiras linhas notas\n",
    "print(notas.head())"
   ]
  },
  {
   "cell_type": "code",
   "execution_count": null,
   "id": "e394db72",
   "metadata": {},
   "outputs": [],
   "source": [
    "# Primeiras linhas produtos\n",
    "print(produtos.head())"
   ]
  },
  {
   "cell_type": "code",
   "execution_count": null,
   "id": "c6200ff2",
   "metadata": {},
   "outputs": [],
   "source": [
    "# Primeiras linhas vendedores\n",
    "print(vendedores.head())"
   ]
  },
  {
   "cell_type": "markdown",
   "id": "c9570828",
   "metadata": {},
   "source": [
    "### Info"
   ]
  },
  {
   "cell_type": "code",
   "execution_count": null,
   "id": "aa19f7e3",
   "metadata": {},
   "outputs": [],
   "source": [
    "# Informações do Dataset itens notas\n",
    "print(itens_notas.info())"
   ]
  },
  {
   "cell_type": "code",
   "execution_count": null,
   "id": "0b1edf98",
   "metadata": {},
   "outputs": [],
   "source": [
    "# Informações do Dataset notas\n",
    "print(notas.info())"
   ]
  },
  {
   "cell_type": "code",
   "execution_count": null,
   "id": "ece26eb6",
   "metadata": {},
   "outputs": [],
   "source": [
    "# Informações do Dataset produtos\n",
    "print(produtos.info())"
   ]
  },
  {
   "cell_type": "code",
   "execution_count": null,
   "id": "873c4c96",
   "metadata": {},
   "outputs": [],
   "source": [
    "# Informações do Dataset vendedores\n",
    "print(vendedores.info())"
   ]
  },
  {
   "cell_type": "markdown",
   "id": "487251c7",
   "metadata": {},
   "source": [
    "### Describe"
   ]
  },
  {
   "cell_type": "code",
   "execution_count": null,
   "id": "00e036c8",
   "metadata": {},
   "outputs": [],
   "source": [
    "# Estatisticas descritivas itens notas\n",
    "print(itens_notas.describe())"
   ]
  },
  {
   "cell_type": "code",
   "execution_count": null,
   "id": "4c515b6c",
   "metadata": {},
   "outputs": [],
   "source": [
    "# Estatisticas descritivas notas\n",
    "print(notas.describe())"
   ]
  },
  {
   "cell_type": "code",
   "execution_count": null,
   "id": "55090577",
   "metadata": {},
   "outputs": [],
   "source": [
    "# Estatisticas descritivas produtos\n",
    "print(produtos.describe())"
   ]
  },
  {
   "cell_type": "code",
   "execution_count": null,
   "id": "878c86ea",
   "metadata": {},
   "outputs": [],
   "source": [
    "# Estatisticas descritivas vendedore\n",
    "print(vendedores.describe())"
   ]
  },
  {
   "cell_type": "markdown",
   "id": "097a645a",
   "metadata": {},
   "source": [
    "### Contar valores nulos por coluna"
   ]
  },
  {
   "cell_type": "code",
   "execution_count": null,
   "id": "61a6262a",
   "metadata": {},
   "outputs": [],
   "source": [
    "print(\"--------Itens Notas---------\")\n",
    "print(itens_notas.isnull().sum())\n",
    "\n",
    "print(\"\\n----------Notas-----------\")\n",
    "print(notas.isnull().sum())\n",
    "\n",
    "print(\"\\n---------Produtos---------\")\n",
    "print(produtos.isnull().sum())\n",
    "\n",
    "print(\"\\n--------Vendedores--------\")\n",
    "print(vendedores.isnull().sum())"
   ]
  },
  {
   "cell_type": "markdown",
   "id": "66f1f63a",
   "metadata": {},
   "source": [
    "## Limpeza e tratamento dos dados"
   ]
  },
  {
   "cell_type": "markdown",
   "id": "9a058661",
   "metadata": {},
   "source": [
    "A fazer:\n",
    " - Remover colunas vazias\n",
    " - Renomear colunas para padrão do banco de dados\n",
    " - Ajustar tipos das colunas para padrão do banco de dados"
   ]
  },
  {
   "cell_type": "markdown",
   "id": "83ff5189",
   "metadata": {},
   "source": [
    "### Remover colunas vazias"
   ]
  },
  {
   "cell_type": "code",
   "execution_count": null,
   "id": "cc50d208",
   "metadata": {},
   "outputs": [],
   "source": [
    "# Remover colunas Unnamed: 3  Unnamed: 4  Unnamed: 5  Unnamed: 6\n",
    "\n",
    "itens_notas = itens_notas.drop(columns=['Unnamed: 3', 'Unnamed: 4','Unnamed: 5', 'Unnamed: 6'])\n"
   ]
  },
  {
   "cell_type": "markdown",
   "id": "aa08019a",
   "metadata": {},
   "source": [
    "### Renomar colunas"
   ]
  },
  {
   "cell_type": "code",
   "execution_count": null,
   "id": "92349086",
   "metadata": {},
   "outputs": [],
   "source": [
    "# Itens Nota\n",
    "itens_notas = itens_notas.rename(columns={\n",
    "    'Numero': 'numero_nota',\n",
    "    'Codigo do produto': 'codigo_produto',\n",
    "    'Quantidade': 'quantidade'\n",
    "})"
   ]
  },
  {
   "cell_type": "code",
   "execution_count": null,
   "id": "5c3dba8d",
   "metadata": {},
   "outputs": [],
   "source": [
    "# Notas\n",
    "\n",
    "notas = notas.rename(columns={\n",
    "    'Matricula': 'matricula_vendedor',\n",
    "    'Data': 'data_venda',\n",
    "    'Numero': 'numero_nota',\n",
    "    'Imposto': 'imposto'\n",
    "})"
   ]
  },
  {
   "cell_type": "code",
   "execution_count": null,
   "id": "9b889c1c",
   "metadata": {},
   "outputs": [],
   "source": [
    "produtos = produtos.rename(columns={\n",
    "    'Codigo do produto': 'codigo_produto',\n",
    "    'Nome do produto': 'nome',\n",
    "    'Tipo': 'tipo',\n",
    "    'Preço': 'valor'\n",
    "})"
   ]
  },
  {
   "cell_type": "code",
   "execution_count": null,
   "id": "1c175090",
   "metadata": {},
   "outputs": [],
   "source": [
    "vendedores = vendedores.rename(columns={\n",
    "    'Matricula': 'matricula',\n",
    "    'Nome': 'nome',\n",
    "    'Percentual Comissao': 'percentual_comissao',\n",
    "    'Imagem': 'url_imagem'\n",
    "})"
   ]
  },
  {
   "cell_type": "markdown",
   "id": "f560ade4",
   "metadata": {},
   "source": [
    "### Criando novas colunas"
   ]
  },
  {
   "cell_type": "code",
   "execution_count": null,
   "id": "b8f33242",
   "metadata": {},
   "outputs": [],
   "source": [
    "# Colocando coluna 'valor' de produtos em itens_notas\n",
    "itens_notas = itens_notas.merge(produtos[['codigo_produto', 'valor']],\n",
    "                                on='codigo_produto',\n",
    "                                how='left')\n",
    "\n",
    "# Renomear coluna\n",
    "itens_notas = itens_notas.rename(columns={'valor': 'valor_unitario'})\n",
    "\n",
    "# Criar nova coluna calculada\n",
    "itens_notas['valor_venda'] = itens_notas['quantidade'] * itens_notas['valor_unitario']\n",
    "\n",
    "print(itens_notas.head())\n"
   ]
  },
  {
   "cell_type": "markdown",
   "id": "d7cd2488",
   "metadata": {},
   "source": [
    "### Tipos das colunas"
   ]
  },
  {
   "cell_type": "code",
   "execution_count": null,
   "id": "8a40f0fa",
   "metadata": {},
   "outputs": [],
   "source": [
    "# Itens Notas\n",
    "itens_notas['numero_nota'] = itens_notas['numero_nota'].astype(int)\n",
    "itens_notas['codigo_produto'] = itens_notas['codigo_produto'].astype(int)\n",
    "itens_notas['quantidade'] = itens_notas['quantidade'].astype(int)\n",
    "itens_notas['valor_unitario'] = itens_notas['valor_unitario'].astype(float)\n",
    "itens_notas['valor_venda'] = itens_notas['valor_venda'].astype(float)"
   ]
  },
  {
   "cell_type": "code",
   "execution_count": null,
   "id": "463a8ec8",
   "metadata": {},
   "outputs": [],
   "source": [
    "# Notas\n",
    "notas['numero_nota'] = notas['numero_nota'].astype(int)\n",
    "notas['matricula_vendedor'] = notas['matricula_vendedor'].astype(int)\n",
    "notas['imposto'] = notas['imposto'].astype(float)\n",
    "notas['data_venda'] = pd.to_datetime(notas['data_venda'])"
   ]
  },
  {
   "cell_type": "code",
   "execution_count": null,
   "id": "699caf38",
   "metadata": {},
   "outputs": [],
   "source": [
    "# Produtos\n",
    "produtos['codigo_produto'] = produtos['codigo_produto'].astype(int)\n",
    "produtos['valor'] = produtos['valor'].astype(float)\n",
    "produtos['nome'] = produtos['nome'].astype('string')\n",
    "produtos['tipo'] = produtos['tipo'].astype('string')"
   ]
  },
  {
   "cell_type": "code",
   "execution_count": null,
   "id": "c4b8827a",
   "metadata": {},
   "outputs": [],
   "source": [
    "# Vendedores\n",
    "vendedores['matricula'] = vendedores['matricula'].astype(int)\n",
    "vendedores['percentual_comissao'] = vendedores['percentual_comissao'].astype(float)\n",
    "vendedores['nome'] = vendedores['nome'].astype('string')\n",
    "vendedores['url_imagem'] = vendedores['url_imagem'].astype('string')\n"
   ]
  },
  {
   "cell_type": "markdown",
   "id": "b88b3203",
   "metadata": {},
   "source": [
    "### Verificação de chaves estrangeiras"
   ]
  },
  {
   "cell_type": "code",
   "execution_count": null,
   "id": "c19549ac",
   "metadata": {},
   "outputs": [],
   "source": [
    "# 1. Validar numero_nota\n",
    "notas_validas = notas['numero_nota'].unique()\n",
    "itens_notas = itens_notas[itens_notas['numero_nota'].isin(notas_validas)]\n",
    "\n",
    "# 2. Validar codigo_produto\n",
    "produtos_validos = produtos['codigo_produto'].unique()\n",
    "itens_notas = itens_notas[itens_notas['codigo_produto'].isin(produtos_validos)]\n"
   ]
  },
  {
   "cell_type": "markdown",
   "id": "e2bef8f4",
   "metadata": {},
   "source": [
    "## Exportando dataframe tratado"
   ]
  },
  {
   "cell_type": "markdown",
   "id": "f8b39b32",
   "metadata": {},
   "source": [
    "### Conexão com banco de dados"
   ]
  },
  {
   "cell_type": "code",
   "execution_count": null,
   "id": "ee583293",
   "metadata": {},
   "outputs": [],
   "source": [
    "import psycopg2\n",
    "import os\n",
    "from dotenv import load_dotenv\n",
    "\n",
    "load_dotenv() # Carrega arquivos do .env\n",
    "\n",
    "try:\n",
    "    # Conexão\n",
    "    conn = psycopg2.connect(\n",
    "        host=os.getenv(\"DB_HOST\"),\n",
    "        database=os.getenv(\"DB_NAME\"),\n",
    "        user=os.getenv(\"DB_USER\"),\n",
    "        password=os.getenv(\"DB_PASSWORD\"),\n",
    "        port=os.getenv(\"DB_PORT\")\n",
    "    )\n",
    "\n",
    "    # Criar cursor (objeto usado para enviar comandos sql)\n",
    "    cur = conn.cursor()\n",
    "\n",
    "    # Teste de conexão (executando um simples SELECT)\n",
    "    cur.execute(\"SELECT 1;\")\n",
    "    result = cur.fetchone()\n",
    "\n",
    "    if result:\n",
    "        print(\"Conexão bem-sucedida!\")\n",
    "    else:\n",
    "        print(\"Falha na consulta.\")\n",
    "\n",
    "except psycopg2.OperationalError as e:\n",
    "    print(f\"Erro de conexão: {e}\")\n",
    "\n"
   ]
  },
  {
   "cell_type": "markdown",
   "id": "9eb00cef",
   "metadata": {},
   "source": [
    "### Criando tabelas"
   ]
  },
  {
   "cell_type": "code",
   "execution_count": null,
   "id": "64de0ec6",
   "metadata": {},
   "outputs": [],
   "source": [
    "# Tabela Produtos\n",
    "cur.execute(\"\"\"\n",
    "CREATE TABLE IF NOT EXISTS produtos (\n",
    "    codigo_produto INT PRIMARY KEY,\n",
    "    nome TEXT,\n",
    "    tipo TEXT,\n",
    "    valor NUMERIC\n",
    ")\n",
    "\"\"\")\n",
    "\n",
    "# Tabela Vendedores\n",
    "cur.execute(\"\"\"\n",
    "CREATE TABLE IF NOT EXISTS vendedores (\n",
    "    matricula INT PRIMARY KEY,\n",
    "    nome TEXT,\n",
    "    percentual_comissao NUMERIC,\n",
    "    url_imagem TEXT\n",
    ")\n",
    "\"\"\")\n",
    "\n",
    "# Tabela Notas\n",
    "cur.execute(\"\"\"\n",
    "CREATE TABLE IF NOT EXISTS notas (\n",
    "    numero_nota INT PRIMARY KEY,\n",
    "    data_venda DATE,\n",
    "    imposto NUMERIC,\n",
    "    matricula_vendedor INT,\n",
    "    FOREIGN KEY (matricula_vendedor) REFERENCES vendedores(matricula)\n",
    ")\n",
    "\"\"\")\n",
    "\n",
    "# Tabela Itens_notas\n",
    "cur.execute(\"\"\"\n",
    "CREATE TABLE IF NOT EXISTS itens_notas (\n",
    "    numero_nota INT,\n",
    "    codigo_produto INT,\n",
    "    quantidade INT,\n",
    "    valor_unitario NUMERIC,\n",
    "    valor_venda NUMERIC,\n",
    "    FOREIGN KEY (numero_nota) REFERENCES notas(numero_nota),\n",
    "    FOREIGN KEY (codigo_produto) REFERENCES produtos(codigo_produto)\n",
    ")\n",
    "\"\"\")\n",
    "\n",
    "# Salvar alterações\n",
    "conn.commit()"
   ]
  },
  {
   "cell_type": "markdown",
   "id": "169a96c1",
   "metadata": {},
   "source": [
    "### Inserindo dados"
   ]
  },
  {
   "cell_type": "code",
   "execution_count": null,
   "id": "bd5c1ea7",
   "metadata": {},
   "outputs": [],
   "source": [
    "# Inserir produtos\n",
    "for i, row in produtos.iterrows():\n",
    "    cur.execute(\"\"\"\n",
    "        INSERT INTO produtos (codigo_produto, nome, tipo, valor)\n",
    "        VALUES (%s, %s, %s, %s)\n",
    "        ON CONFLICT (codigo_produto) DO NOTHING\n",
    "    \"\"\", (row['codigo_produto'], row['nome'], row['tipo'], row['valor']))\n",
    "\n",
    "# Inserir vendedores\n",
    "for i, row in vendedores.iterrows():\n",
    "    cur.execute(\"\"\"\n",
    "        INSERT INTO vendedores (matricula, nome, percentual_comissao, url_imagem)\n",
    "        VALUES (%s, %s, %s, %s)\n",
    "        ON CONFLICT (matricula) DO NOTHING\n",
    "    \"\"\", (row['matricula'], row['nome'], row['percentual_comissao'], row['url_imagem']))\n",
    "\n",
    "# Inserir notas\n",
    "for i, row in notas.iterrows():\n",
    "    cur.execute(\"\"\"\n",
    "        INSERT INTO notas (numero_nota, data_venda, imposto, matricula_vendedor)\n",
    "        VALUES (%s, %s, %s, %s)\n",
    "        ON CONFLICT (numero_nota) DO NOTHING\n",
    "    \"\"\", (row['numero_nota'], row['data_venda'], row['imposto'], row['matricula_vendedor']))\n",
    "\n",
    "# Inserir itens_notas\n",
    "for i, row in itens_notas.iterrows():\n",
    "    cur.execute(\"\"\"\n",
    "        INSERT INTO itens_notas (numero_nota, codigo_produto, quantidade, valor_unitario, valor_venda)\n",
    "        VALUES (%s, %s, %s, %s, %s)\n",
    "    \"\"\", (int(row['numero_nota']), int(row['codigo_produto']), int(row['quantidade']), float(row['valor_unitario']), float(row['valor_venda'])))\n",
    "\n",
    "# Salvar alterações\n",
    "conn.commit()\n"
   ]
  },
  {
   "cell_type": "markdown",
   "id": "3b5abdaa",
   "metadata": {},
   "source": [
    "### Encerrando conexão"
   ]
  },
  {
   "cell_type": "code",
   "execution_count": null,
   "id": "80eedac6",
   "metadata": {},
   "outputs": [],
   "source": [
    "# Fecha conexão\n",
    "if conn:\n",
    "    cur.close()\n",
    "    conn.close()\n",
    "    print (\"Conexão encerrada!\")"
   ]
  }
 ],
 "metadata": {
  "kernelspec": {
   "display_name": "Python 3",
   "language": "python",
   "name": "python3"
  },
  "language_info": {
   "codemirror_mode": {
    "name": "ipython",
    "version": 3
   },
   "file_extension": ".py",
   "mimetype": "text/x-python",
   "name": "python",
   "nbconvert_exporter": "python",
   "pygments_lexer": "ipython3",
   "version": "3.10.0"
  }
 },
 "nbformat": 4,
 "nbformat_minor": 5
}

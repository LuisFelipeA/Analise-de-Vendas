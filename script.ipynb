{
 "cells": [
  {
   "cell_type": "markdown",
   "id": "e3848fdd",
   "metadata": {},
   "source": [
    "## Importando bibliotecas e lendo arquivo"
   ]
  },
  {
   "cell_type": "code",
   "execution_count": 2,
   "id": "8ccc3d88",
   "metadata": {},
   "outputs": [],
   "source": [
    "# Importar pandas\n",
    "import pandas as pd"
   ]
  },
  {
   "cell_type": "markdown",
   "id": "1959dcff",
   "metadata": {},
   "source": [
    "Dataset utilizado\n",
    "https://caelum-online-public.s3.amazonaws.com/2030-entendendo-formulas-dax/01/Preparando-o-ambiente.zip"
   ]
  },
  {
   "cell_type": "code",
   "execution_count": 31,
   "id": "5c97f38f",
   "metadata": {},
   "outputs": [],
   "source": [
    "# Ler arquivo Excel\n",
    "itens_notas = pd.read_excel(\"Data/dataset-vendas.xlsx\", \"Itens Notas\")\n",
    "notas = pd.read_excel(\"Data/dataset-vendas.xlsx\", \"Notas\")\n",
    "produtos = pd.read_excel(\"Data/dataset-vendas.xlsx\", \"Produtos\")\n",
    "vendedores = pd.read_excel(\"Data/dataset-vendas.xlsx\", \"Vendedores\")"
   ]
  },
  {
   "cell_type": "markdown",
   "id": "37d75156",
   "metadata": {},
   "source": [
    "## Explorando dados"
   ]
  },
  {
   "cell_type": "markdown",
   "id": "b7aed022",
   "metadata": {},
   "source": [
    "### Head"
   ]
  },
  {
   "cell_type": "code",
   "execution_count": 32,
   "id": "b958baf8",
   "metadata": {},
   "outputs": [
    {
     "name": "stdout",
     "output_type": "stream",
     "text": [
      "   Numero  Codigo do produto  Quantidade  Unnamed: 3  Unnamed: 4  Unnamed: 5  \\\n",
      "0   27192            1022450          68         NaN         NaN         NaN   \n",
      "1   27227            1022450          72         NaN         NaN         NaN   \n",
      "2   27235            1022450          30         NaN         NaN         NaN   \n",
      "3   27250            1022450          26         NaN         NaN         NaN   \n",
      "4   27254            1022450          94         NaN         NaN         NaN   \n",
      "\n",
      "  Unnamed: 6  \n",
      "0       olla  \n",
      "1        NaN  \n",
      "2        NaN  \n",
      "3        NaN  \n",
      "4        NaN  \n"
     ]
    }
   ],
   "source": [
    "# Primeiras linhas itens notas\n",
    "print(itens_notas.head())"
   ]
  },
  {
   "cell_type": "code",
   "execution_count": 33,
   "id": "30e0d8e6",
   "metadata": {},
   "outputs": [
    {
     "name": "stdout",
     "output_type": "stream",
     "text": [
      "   Matricula       Data  Numero  Imposto\n",
      "0        235 2015-01-01     100      0.1\n",
      "1        235 2015-01-01     113      0.1\n",
      "2        235 2015-01-01     114      0.1\n",
      "3        235 2015-01-01     116      0.1\n",
      "4        235 2015-01-01     120      0.1\n"
     ]
    }
   ],
   "source": [
    "# Primeiras linhas notas\n",
    "print(notas.head())"
   ]
  },
  {
   "cell_type": "code",
   "execution_count": 34,
   "id": "e394db72",
   "metadata": {},
   "outputs": [
    {
     "name": "stdout",
     "output_type": "stream",
     "text": [
      "   Codigo do produto                                 Nome do produto   Tipo  \\\n",
      "0            1000889            Desmistificando Business Inteligence  Ebook   \n",
      "1            1002334                                      BI na veia  Livro   \n",
      "2            1002767  Power BI: 10 dicas para o tratamento dos dados  Ebook   \n",
      "3            1004327                   Tudo sobre o Power BI Desktop  Livro   \n",
      "4            1013793                                  O poder do DAX  Livro   \n",
      "\n",
      "    Preço  \n",
      "0   6.309  \n",
      "1  42.000  \n",
      "2   8.410  \n",
      "3  35.000  \n",
      "4  24.010  \n"
     ]
    }
   ],
   "source": [
    "# Primeiras linhas produtos\n",
    "print(produtos.head())"
   ]
  },
  {
   "cell_type": "code",
   "execution_count": 35,
   "id": "c6200ff2",
   "metadata": {},
   "outputs": [
    {
     "name": "stdout",
     "output_type": "stream",
     "text": [
      "   Matricula              Nome  Percentual Comissao  \\\n",
      "0        235       David Neves                 0.08   \n",
      "1        236  Thiago Gonçalves                 0.08   \n",
      "2        237     Allan Spadini                 0.11   \n",
      "\n",
      "                                              Imagem  \n",
      "0  https://www.gravatar.com/avatar/5645655c7c3278...  \n",
      "1  https://www.gravatar.com/avatar/a1720bb05089f1...  \n",
      "2  https://www.gravatar.com/avatar/cfda15dded9077...  \n"
     ]
    }
   ],
   "source": [
    "# Primeiras linhas vendedores\n",
    "print(vendedores.head())"
   ]
  },
  {
   "cell_type": "markdown",
   "id": "c9570828",
   "metadata": {},
   "source": [
    "### Info"
   ]
  },
  {
   "cell_type": "code",
   "execution_count": 36,
   "id": "aa19f7e3",
   "metadata": {},
   "outputs": [
    {
     "name": "stdout",
     "output_type": "stream",
     "text": [
      "<class 'pandas.core.frame.DataFrame'>\n",
      "RangeIndex: 87877 entries, 0 to 87876\n",
      "Data columns (total 4 columns):\n",
      " #   Column     Non-Null Count  Dtype         \n",
      "---  ------     --------------  -----         \n",
      " 0   Matricula  87877 non-null  int64         \n",
      " 1   Data       87877 non-null  datetime64[ns]\n",
      " 2   Numero     87877 non-null  int64         \n",
      " 3   Imposto    87877 non-null  float64       \n",
      "dtypes: datetime64[ns](1), float64(1), int64(2)\n",
      "memory usage: 2.7 MB\n",
      "None\n"
     ]
    }
   ],
   "source": [
    "# Informações do Dataset itens notas\n",
    "print(notas.info())"
   ]
  },
  {
   "cell_type": "code",
   "execution_count": 37,
   "id": "0b1edf98",
   "metadata": {},
   "outputs": [
    {
     "name": "stdout",
     "output_type": "stream",
     "text": [
      "<class 'pandas.core.frame.DataFrame'>\n",
      "RangeIndex: 87877 entries, 0 to 87876\n",
      "Data columns (total 4 columns):\n",
      " #   Column     Non-Null Count  Dtype         \n",
      "---  ------     --------------  -----         \n",
      " 0   Matricula  87877 non-null  int64         \n",
      " 1   Data       87877 non-null  datetime64[ns]\n",
      " 2   Numero     87877 non-null  int64         \n",
      " 3   Imposto    87877 non-null  float64       \n",
      "dtypes: datetime64[ns](1), float64(1), int64(2)\n",
      "memory usage: 2.7 MB\n",
      "None\n"
     ]
    }
   ],
   "source": [
    "# Informações do Dataset notas\n",
    "print(notas.info())"
   ]
  },
  {
   "cell_type": "code",
   "execution_count": 38,
   "id": "ece26eb6",
   "metadata": {},
   "outputs": [
    {
     "name": "stdout",
     "output_type": "stream",
     "text": [
      "<class 'pandas.core.frame.DataFrame'>\n",
      "RangeIndex: 28 entries, 0 to 27\n",
      "Data columns (total 4 columns):\n",
      " #   Column             Non-Null Count  Dtype  \n",
      "---  ------             --------------  -----  \n",
      " 0   Codigo do produto  28 non-null     int64  \n",
      " 1   Nome do produto    28 non-null     object \n",
      " 2   Tipo               28 non-null     object \n",
      " 3   Preço              28 non-null     float64\n",
      "dtypes: float64(1), int64(1), object(2)\n",
      "memory usage: 1.0+ KB\n",
      "None\n"
     ]
    }
   ],
   "source": [
    "# Informações do Dataset produtos\n",
    "print(produtos.info())"
   ]
  },
  {
   "cell_type": "code",
   "execution_count": 39,
   "id": "873c4c96",
   "metadata": {},
   "outputs": [
    {
     "name": "stdout",
     "output_type": "stream",
     "text": [
      "<class 'pandas.core.frame.DataFrame'>\n",
      "RangeIndex: 3 entries, 0 to 2\n",
      "Data columns (total 4 columns):\n",
      " #   Column               Non-Null Count  Dtype  \n",
      "---  ------               --------------  -----  \n",
      " 0   Matricula            3 non-null      int64  \n",
      " 1   Nome                 3 non-null      object \n",
      " 2   Percentual Comissao  3 non-null      float64\n",
      " 3   Imagem               3 non-null      object \n",
      "dtypes: float64(1), int64(1), object(2)\n",
      "memory usage: 224.0+ bytes\n",
      "None\n"
     ]
    }
   ],
   "source": [
    "# Informações do Dataset vendedores\n",
    "print(vendedores.info())"
   ]
  },
  {
   "cell_type": "markdown",
   "id": "487251c7",
   "metadata": {},
   "source": [
    "### Describe"
   ]
  },
  {
   "cell_type": "code",
   "execution_count": null,
   "id": "00e036c8",
   "metadata": {},
   "outputs": [
    {
     "name": "stdout",
     "output_type": "stream",
     "text": [
      "              Numero  Codigo do produto     Quantidade  Unnamed: 3  \\\n",
      "count  213364.000000       2.133640e+05  213364.000000         0.0   \n",
      "mean    43991.334297       7.539346e+05      54.499283         NaN   \n",
      "std     25358.475034       3.077537e+05      25.981520         NaN   \n",
      "min       100.000000       2.299000e+05      10.000000         NaN   \n",
      "25%     22034.750000       4.797450e+05      32.000000         NaN   \n",
      "50%     43980.000000       7.889750e+05      54.000000         NaN   \n",
      "75%     65928.250000       1.022450e+06      77.000000         NaN   \n",
      "max     87976.000000       1.101035e+06      99.000000         NaN   \n",
      "\n",
      "       Unnamed: 4  Unnamed: 5  \n",
      "count         0.0         0.0  \n",
      "mean          NaN         NaN  \n",
      "std           NaN         NaN  \n",
      "min           NaN         NaN  \n",
      "25%           NaN         NaN  \n",
      "50%           NaN         NaN  \n",
      "75%           NaN         NaN  \n",
      "max           NaN         NaN  \n"
     ]
    }
   ],
   "source": [
    "# Estatisticas descritivas itens notas\n",
    "print(itens_notas.describe())"
   ]
  },
  {
   "cell_type": "code",
   "execution_count": 26,
   "id": "4c515b6c",
   "metadata": {},
   "outputs": [
    {
     "name": "stdout",
     "output_type": "stream",
     "text": [
      "          Matricula                           Data       Numero       Imposto\n",
      "count  87877.000000                          87877  87877.00000  87877.000000\n",
      "mean     235.996859  2016-08-13 12:36:49.724956672  44038.00000      0.109984\n",
      "min      235.000000            2015-01-01 00:00:00    100.00000      0.100000\n",
      "25%      235.000000            2015-10-23 00:00:00  22069.00000      0.100000\n",
      "50%      236.000000            2016-08-12 00:00:00  44038.00000      0.100000\n",
      "75%      237.000000            2017-06-05 00:00:00  66007.00000      0.120000\n",
      "max      237.000000            2018-03-28 00:00:00  87976.00000      0.120000\n",
      "std        0.815919                            NaN  25368.04914      0.010000\n"
     ]
    }
   ],
   "source": [
    "# Estatisticas descritivas notas\n",
    "print(notas.describe())"
   ]
  },
  {
   "cell_type": "code",
   "execution_count": 27,
   "id": "55090577",
   "metadata": {},
   "outputs": [
    {
     "name": "stdout",
     "output_type": "stream",
     "text": [
      "       Codigo do produto      Preço\n",
      "count       2.800000e+01  28.000000\n",
      "mean        9.950822e+05  20.368411\n",
      "std         7.686448e+05  13.856121\n",
      "min         2.317760e+05   4.904000\n",
      "25%         7.164912e+05   7.710125\n",
      "50%         9.198540e+05  19.687500\n",
      "75%         1.038628e+06  29.384000\n",
      "max         4.000001e+06  48.990000\n"
     ]
    }
   ],
   "source": [
    "# Estatisticas descritivas produtos\n",
    "print(produtos.describe())"
   ]
  },
  {
   "cell_type": "code",
   "execution_count": 28,
   "id": "878c86ea",
   "metadata": {},
   "outputs": [
    {
     "name": "stdout",
     "output_type": "stream",
     "text": [
      "       Matricula  Percentual Comissao\n",
      "count        3.0             3.000000\n",
      "mean       236.0             0.090000\n",
      "std          1.0             0.017321\n",
      "min        235.0             0.080000\n",
      "25%        235.5             0.080000\n",
      "50%        236.0             0.080000\n",
      "75%        236.5             0.095000\n",
      "max        237.0             0.110000\n"
     ]
    }
   ],
   "source": [
    "# Estatisticas descritivas vendedore\n",
    "print(vendedores.describe())"
   ]
  },
  {
   "cell_type": "markdown",
   "id": "097a645a",
   "metadata": {},
   "source": [
    "### Contar valores nulos por coluna"
   ]
  },
  {
   "cell_type": "code",
   "execution_count": 25,
   "id": "61a6262a",
   "metadata": {},
   "outputs": [
    {
     "name": "stdout",
     "output_type": "stream",
     "text": [
      "--------Itens Notas---------\n",
      "Numero                    0\n",
      "Codigo do produto         0\n",
      "Quantidade                0\n",
      "Unnamed: 3           213364\n",
      "Unnamed: 4           213364\n",
      "Unnamed: 5           213364\n",
      "Unnamed: 6           213363\n",
      "dtype: int64\n",
      "\n",
      "----------Notas-----------\n",
      "Matricula    0\n",
      "Data         0\n",
      "Numero       0\n",
      "Imposto      0\n",
      "dtype: int64\n",
      "\n",
      "---------Produtos---------\n",
      "Codigo do produto    0\n",
      "Nome do produto      0\n",
      "Tipo                 0\n",
      "Preço                0\n",
      "dtype: int64\n",
      "\n",
      "--------Vendedores--------\n",
      "Matricula              0\n",
      "Nome                   0\n",
      "Percentual Comissao    0\n",
      "Imagem                 0\n",
      "dtype: int64\n"
     ]
    }
   ],
   "source": [
    "print(\"--------Itens Notas---------\")\n",
    "print(itens_notas.isnull().sum())\n",
    "\n",
    "print(\"\\n----------Notas-----------\")\n",
    "print(notas.isnull().sum())\n",
    "\n",
    "print(\"\\n---------Produtos---------\")\n",
    "print(produtos.isnull().sum())\n",
    "\n",
    "print(\"\\n--------Vendedores--------\")\n",
    "print(vendedores.isnull().sum())"
   ]
  },
  {
   "cell_type": "markdown",
   "id": "66f1f63a",
   "metadata": {},
   "source": [
    "## Limpeza e tratamento dos dados"
   ]
  },
  {
   "cell_type": "markdown",
   "id": "9a058661",
   "metadata": {},
   "source": [
    "A fazer:\n",
    "\n",
    " - Renomear colunas para padrão do banco de dados\n",
    " - Remover colunas vazias\n",
    " - Ajustar tipos das colunas"
   ]
  },
  {
   "cell_type": "code",
   "execution_count": null,
   "id": "c4b8827a",
   "metadata": {},
   "outputs": [],
   "source": [
    "# vendedores['Imagem'] = vendedores['Imagem'].astype('string')\n",
    "# vendedores['Nome'] = vendedores['Nome'].astype('string')\n"
   ]
  },
  {
   "cell_type": "code",
   "execution_count": null,
   "id": "6134da3c",
   "metadata": {},
   "outputs": [],
   "source": [
    "# # Renomeando as colunas para português\n",
    "# df = df.rename(columns={\n",
    "#     'name': 'nome',\n",
    "#     'sale_id': 'id_venda',\n",
    "#     'product_id': 'id_produto',\n",
    "#     'product': 'nome_produto',\n",
    "#     'price_y': 'preco_venda',\n",
    "#     'quantity': 'quantidade_vendida',\n",
    "#     'price_x': 'preco_original',\n",
    "#     'email': 'email_cliente'\n",
    "# })"
   ]
  },
  {
   "cell_type": "code",
   "execution_count": null,
   "id": "48cd7292",
   "metadata": {},
   "outputs": [],
   "source": [
    "# # Conversão de datas\n",
    "# df['created_at'] = pd.to_datetime(df['created_at'])\n",
    "# df['updated_at'] = pd.to_datetime(df['updated_at'])"
   ]
  },
  {
   "cell_type": "code",
   "execution_count": null,
   "id": "d2905fdb",
   "metadata": {},
   "outputs": [],
   "source": [
    "# # Removendo valores negativos ou Zero\n",
    "# df = df[(df['quantidade_vendida'] > 0) & (df['preco_venda'] > 0)]"
   ]
  },
  {
   "cell_type": "code",
   "execution_count": null,
   "id": "2f8a32d4",
   "metadata": {},
   "outputs": [],
   "source": [
    "# # Criando coluna de vendas totais\n",
    "# df['total_venda'] = df['preco_venda'] * df['quantidade_vendida']"
   ]
  },
  {
   "cell_type": "code",
   "execution_count": null,
   "id": "39e0d801",
   "metadata": {},
   "outputs": [],
   "source": [
    "# # Diferença de preço original e preço vendido\n",
    "# df['diferenca_preco'] = df['preco_venda'] - df['preco_original']"
   ]
  },
  {
   "cell_type": "markdown",
   "id": "e2bef8f4",
   "metadata": {},
   "source": [
    "## Exportando dataframe tratado"
   ]
  },
  {
   "cell_type": "code",
   "execution_count": null,
   "id": "940afa20",
   "metadata": {},
   "outputs": [],
   "source": [
    "# # exportando para CSV\n",
    "# df.to_csv('Data/dados_tratados_vendas.csv', index=False)"
   ]
  },
  {
   "cell_type": "code",
   "execution_count": null,
   "id": "ee583293",
   "metadata": {},
   "outputs": [],
   "source": []
  }
 ],
 "metadata": {
  "kernelspec": {
   "display_name": "Python 3",
   "language": "python",
   "name": "python3"
  },
  "language_info": {
   "codemirror_mode": {
    "name": "ipython",
    "version": 3
   },
   "file_extension": ".py",
   "mimetype": "text/x-python",
   "name": "python",
   "nbconvert_exporter": "python",
   "pygments_lexer": "ipython3",
   "version": "3.10.0"
  }
 },
 "nbformat": 4,
 "nbformat_minor": 5
}
